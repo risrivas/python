{
 "cells": [
  {
   "cell_type": "code",
   "execution_count": 1,
   "metadata": {},
   "outputs": [],
   "source": [
    "PV = 1000"
   ]
  },
  {
   "cell_type": "code",
   "execution_count": 2,
   "metadata": {},
   "outputs": [
    {
     "name": "stdout",
     "output_type": "stream",
     "text": [
      "1050.0\n"
     ]
    }
   ],
   "source": [
    "r = 0.05\n",
    "n = 1\n",
    "\n",
    "FV = PV * ((1+r)**n)\n",
    "print(FV)"
   ]
  },
  {
   "cell_type": "code",
   "execution_count": 3,
   "metadata": {},
   "outputs": [
    {
     "name": "stdout",
     "output_type": "stream",
     "text": [
      "1000.0\n"
     ]
    }
   ],
   "source": [
    "FV = 1050\n",
    "r = 0.05\n",
    "n = 1\n",
    "\n",
    "PV = FV / ((1+r)**n)\n",
    "print(PV)"
   ]
  },
  {
   "cell_type": "code",
   "execution_count": 4,
   "metadata": {},
   "outputs": [
    {
     "name": "stdout",
     "output_type": "stream",
     "text": [
      "1050.625\n"
     ]
    }
   ],
   "source": [
    "PV = 1000\n",
    "r = 0.05\n",
    "n = 2\n",
    "t = 1\n",
    "\n",
    "FV = PV * ((1+(r/n))**(n*t))\n",
    "print(FV)"
   ]
  },
  {
   "cell_type": "code",
   "execution_count": 5,
   "metadata": {},
   "outputs": [
    {
     "name": "stdout",
     "output_type": "stream",
     "text": [
      "2863.1299093655552\n"
     ]
    }
   ],
   "source": [
    "r = 0.1\n",
    "n = 3\n",
    "PV = 0\n",
    "FV = 9476.96\n",
    "\n",
    "AP = (FV * r) / ( ((1+r)**n) - 1) \n",
    "print(AP)"
   ]
  },
  {
   "cell_type": "code",
   "execution_count": 6,
   "metadata": {},
   "outputs": [
    {
     "name": "stdout",
     "output_type": "stream",
     "text": [
      "9476.966923521126\n"
     ]
    }
   ],
   "source": [
    "r = 0.1\n",
    "n = 5\n",
    "AP = 2500\n",
    "\n",
    "PV = (AP * (1-( (1+r)**-n) )) / r\n",
    "print(PV)"
   ]
  },
  {
   "cell_type": "code",
   "execution_count": 7,
   "metadata": {},
   "outputs": [
    {
     "name": "stdout",
     "output_type": "stream",
     "text": [
      "363252.0450945144\n"
     ]
    }
   ],
   "source": [
    "r = 0.08\n",
    "n = 45\n",
    "AP1 = 30000\n",
    "\n",
    "PV = (AP1 * (1 - ((1+r)**-n) )) / r\n",
    "print(PV)"
   ]
  },
  {
   "cell_type": "code",
   "execution_count": 8,
   "metadata": {},
   "outputs": [
    {
     "name": "stdout",
     "output_type": "stream",
     "text": [
      "1707.0675035369095\n"
     ]
    }
   ],
   "source": [
    "FV = 363252.0450945144\n",
    "n = 25\n",
    "r = 0.15\n",
    "\n",
    "AP = (FV * r) / (((1+r)**n) - 1)\n",
    "print(AP)"
   ]
  },
  {
   "cell_type": "code",
   "execution_count": null,
   "metadata": {},
   "outputs": [],
   "source": []
  }
 ],
 "metadata": {
  "kernelspec": {
   "display_name": "Python 3",
   "language": "python",
   "name": "python3"
  },
  "language_info": {
   "codemirror_mode": {
    "name": "ipython",
    "version": 3
   },
   "file_extension": ".py",
   "mimetype": "text/x-python",
   "name": "python",
   "nbconvert_exporter": "python",
   "pygments_lexer": "ipython3",
   "version": "3.6.4"
  }
 },
 "nbformat": 4,
 "nbformat_minor": 2
}
